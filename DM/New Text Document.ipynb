{
 "cells": [
  {
   "cell_type": "markdown",
   "metadata": {},
   "source": [
    "<h1> <span style=\"color:brown\">L'algorithme de Flajolet et Martin</span></h1>\n",
    "    \n",
    "<h3> <span style=\"color:brown\">Objectif</span>. On veut estimer le nombre de mots distincts d'un livre en utilisant très peu de mémoire. En considérant un livre comme étant une liste de mots, il s'agit donc d'estimer la cardinalité de cette liste.</h3>\n",
    "\n",
    "Pour les tests, récupérer sur <https://www.gutenberg.org/> un livre du domaine public (i.e., l'auteur est mort, il y a au moins 70 ans) au format texte brut *UTF-8*.\n",
    "\n"
   ]
  },
  {
   "cell_type": "markdown",
   "metadata": {},
   "source": [
    "La fonction **genereMots(nomFic)** ci-dessous est un générateur des mots du fichier **nomFic**.<br>\n",
    "On utilise ce générateur pour définir le flux des données : une simple boucle **for mot in genereMots(nomFic): ...** permet d'énumérer tous les mots du fichier."
   ]
  },
  {
   "cell_type": "code",
   "execution_count": 1,
   "metadata": {},
   "outputs": [],
   "source": [
    "import string\n",
    "from math import log, sqrt\n",
    "import time\n",
    "    \n",
    "delimiteurs = string.punctuation + string.whitespace\n",
    "\n",
    "def genereMots(nomFic):\n",
    "    source = open(nomFic,'r')\n",
    "    el = ''\n",
    "    car = source.read(1)\n",
    "    while car != '':\n",
    "        if car in delimiteurs:\n",
    "            if len(el) > 0:\n",
    "                yield el\n",
    "                el = ''\n",
    "        else: el += car\n",
    "        car = source.read(1)\n",
    "    if len(el) > 0: yield el\n",
    "    source.close()"
   ]
  },
  {
   "cell_type": "markdown",
   "metadata": {},
   "source": [
    " ---\n",
    " _Question 1_. Écrire une fonction **compteExact(flux)** qui détermine la cardinalité d'un **flux**.\n",
    " "
   ]
  },
  {
   "cell_type": "code",
   "execution_count": 2,
   "metadata": {},
   "outputs": [],
   "source": []
  },
  {
   "cell_type": "code",
   "execution_count": 3,
   "metadata": {},
   "outputs": [
    {
     "name": "stdout",
     "output_type": "stream",
     "text": [
      "cardinalité : 34957\n"
     ]
    }
   ],
   "source": [
    "# Test compteExact\n",
    "flux = genereMots(\"Data/completeWorks_Shakespeare.txt\")\n",
    "cardExacte = compteExact(flux)\n",
    "print(\"cardinalité : %d\" %cardExacte)"
   ]
  },
  {
   "cell_type": "markdown",
   "metadata": {},
   "source": [
    "Comme vu en cours, le calcul exact de la cardinalité nécessite un espace linéaire en la taille du fichier.\n",
    "Maintenant, pour gagner sur l'espace, on va sacrifier l'exactitude et chercher une estimation aussi bonne que possible."
   ]
  },
  {
   "cell_type": "markdown",
   "metadata": {},
   "source": [
    "## <span style=\"color:brown\">Première approche</span>\n",
    "Dans un premier temps, on souhaite mettre en oeuvre la version élémentaire du comptage probabiliste.\n",
    "On rappelle les grandes étapes :\n",
    "<pre><code>\n",
    "Initialiser un tableau <span style=\"color:blue\">BITMAP</span> de <span style=\"color:blue\">&#x2113;</span> zéros<br>\n",
    "Pour chaque élément <span style=\"color:blue\">mot</span> du flux faire\n",
    "    <span style=\"color:blue\">index = rho(hash(mot))</span>\n",
    "    <span style=\"color:blue\">BITMAP[index] = 1</span><br>\n",
    "Calculer <span style=\"color:blue\">mini</span> le plus petit <span style=\"color:blue\">i</span> tel que <span style=\"color:blue\">BITMAP[i] = 0</span><br>\n",
    "Retourner <span style=\"color:blue\">2<sup>mini</sup>/ &phi;</span>\n",
    "</code></pre>"
   ]
  },
  {
   "cell_type": "markdown",
   "metadata": {},
   "source": [
    " ---\n",
    " _Question 2_. Écrire une fonction **rho** qui prend en entrée une valeur entière __val__ et retourne la position du premier **1** à droite dans la décomposition binaire de __val__"
   ]
  },
  {
   "cell_type": "code",
   "execution_count": 4,
   "metadata": {},
   "outputs": [],
   "source": []
  },
  {
   "cell_type": "code",
   "execution_count": 5,
   "metadata": {},
   "outputs": [
    {
     "name": "stdout",
     "output_type": "stream",
     "text": [
      "rho(96) = 5\n",
      "rho(17) = 0\n"
     ]
    }
   ],
   "source": [
    "# Test rho\n",
    "for val in (96,17):\n",
    "    print('rho(%d) = %d' %(val,rho(val)))"
   ]
  },
  {
   "cell_type": "markdown",
   "metadata": {},
   "source": [
    "---\n",
    "_Question 3_. Écrire une fonction **calcBitmap** qui prend en entrée un __flux__ et, qui calcule et retourne le tableau **BITMAP**.<br>\n",
    "(Pour la longueur **&#x2113;** du tableau, on prendra, par exemple, $24$. )"
   ]
  },
  {
   "cell_type": "code",
   "execution_count": 6,
   "metadata": {},
   "outputs": [],
   "source": []
  },
  {
   "cell_type": "code",
   "execution_count": null,
   "metadata": {},
   "outputs": [],
   "source": [
    "# Test calcBitmap\n"
   ]
  },
  {
   "cell_type": "markdown",
   "metadata": {},
   "source": [
    "---\n",
    "_Question 4_. Écrire une fonction **signature** qui prend en entrée un tableau **bitmap** de bits et qui retourne sa signature, i.e., le plus petit indice __i__ \n",
    "tel que **bitmap[i] = 0**."
   ]
  },
  {
   "cell_type": "code",
   "execution_count": 8,
   "metadata": {},
   "outputs": [],
   "source": []
  },
  {
   "cell_type": "code",
   "execution_count": 9,
   "metadata": {},
   "outputs": [
    {
     "data": {
      "text/plain": [
       "14"
      ]
     },
     "execution_count": 9,
     "metadata": {},
     "output_type": "execute_result"
    }
   ],
   "source": [
    "# Test signature\n",
    "signature([1, 1, 1, 1, 1, 1, 1, 1, 1, 1, 1, 1, 1, 1, 0, 0, 1, 0, 0, 0, 0, 0])"
   ]
  },
  {
   "cell_type": "markdown",
   "metadata": {},
   "source": [
    "---\n",
    "_Question 5_. Écrire une fonction **premApproche** qui prend en entrée un __flux__ et qui retourne une **estimation** (élémentaire) de sa cardinalité.\n"
   ]
  },
  {
   "cell_type": "code",
   "execution_count": 10,
   "metadata": {},
   "outputs": [],
   "source": [
    "Phi = .77351\n"
   ]
  },
  {
   "cell_type": "code",
   "execution_count": null,
   "metadata": {},
   "outputs": [],
   "source": [
    "# Test\n",
    "flux = genereMots(\"Data/completeWorks_Shakespeare.txt\")\n",
    "estimation = premApproche(flux)\n",
    "print(\"cardinalité estimée : %.3f\" %estimation)"
   ]
  },
  {
   "cell_type": "markdown",
   "metadata": {},
   "source": [
    "---\n",
    "_Question 6_.  Évaluer la qualité de l'estimation en calculant sa précision relative."
   ]
  },
  {
   "cell_type": "code",
   "execution_count": null,
   "metadata": {},
   "outputs": [],
   "source": []
  },
  {
   "cell_type": "markdown",
   "metadata": {},
   "source": [
    "## <span style=\"color:brown\">Deuxième approche</span>\n",
    "Pour obtenir une meilleure estimation de la cardinalité, le principe est de diviser le flux des données en **m** lots (où **m** une puissance de __2__).\n",
    "\n",
    "On rappelle les principales étapes de l'algorithme de Flajolet et Martin :\n",
    "<pre><code>\n",
    "    Initialiser une liste <span style=\"color:blue\">BITMAPS</span> de <span style=\"color:blue\">m</span> tables de <span style=\"color:blue\">&#x2113;</span> zéros<br>\n",
    "    Pour chaque élément <span style=\"color:blue\">el</span> du flux faire\n",
    "        <span style=\"color:blue\">empreinte = hash(el)</span>\n",
    "        <span style=\"color:blue\">numFlux = empreinte %m</span>\n",
    "        <span style=\"color:blue\">index = rho(empreinte // m)</span>\n",
    "        <span style=\"color:blue\">BITMAPS[numFlux][index] = 1</span><br>\n",
    "    <span style=\"color:blue\">cumul = 0</span>\n",
    "    Pour <span style=\"color:blue\">numFlux</span> de <span style=\"color:blue\">0</span> à <span style=\"color:blue\">m-1</span> faire\n",
    "        Calculer <span style=\"color:blue\">mini</span> le plus petit <span style=\"color:blue\">i</span> tq <span style=\"color:blue\">BITMAPS[numFlux][i] = 0</span>\n",
    "        <span style=\"color:blue\">cumul = cumul + mini</span>\n",
    "    <span style=\"color:blue\">moy = cumul/m</span><br>\n",
    "    Retourner <span style=\"color:blue\">m &times; 2<sup>moy</sup>/&phi;</span>\n",
    " </code></pre>"
   ]
  },
  {
   "cell_type": "markdown",
   "metadata": {},
   "source": [
    "---\n",
    "_Question 7_. Écrire une fonction **calc_m_Bitmaps** qui prend en entrée un __flux__ et un entier **m** \n",
    "(puissance de __2__) et, qui calcule et retourne une liste de __m__ tableaux **BITMAP**.\n"
   ]
  },
  {
   "cell_type": "code",
   "execution_count": 13,
   "metadata": {},
   "outputs": [],
   "source": []
  },
  {
   "cell_type": "code",
   "execution_count": null,
   "metadata": {},
   "outputs": [],
   "source": [
    "# test calc_m_Bitmaps\n"
   ]
  },
  {
   "cell_type": "markdown",
   "metadata": {},
   "source": [
    "---\n",
    "_Question 8_. Écrire une fonction **flajoletMartin** qui prend en entrée un flux et un entier **m** (puissance de __2__) et qui retourne une estimation de sa cardinalité."
   ]
  },
  {
   "cell_type": "code",
   "execution_count": 15,
   "metadata": {},
   "outputs": [],
   "source": []
  },
  {
   "cell_type": "code",
   "execution_count": null,
   "metadata": {},
   "outputs": [],
   "source": [
    "# test algoFlajoletMartin\n",
    "flux = genereMots(\"Data/completeWorks_Shakespeare.txt\")\n",
    "estimationFM=algoFlajoletMartin(flux,2**4)\n",
    "print(\"cardinalité estimée par l'algo de Flajolet et Martin : %.3f\" %estimationFM)"
   ]
  },
  {
   "cell_type": "markdown",
   "metadata": {},
   "source": [
    "---\n",
    "_Question 9_. L'erreur standard est évaluée à $\\frac{0.78}{\\sqrt{m}}$. \n",
    "Est-ce que vos résultats confirment ce calcul ?"
   ]
  },
  {
   "cell_type": "code",
   "execution_count": null,
   "metadata": {},
   "outputs": [],
   "source": []
  },
  {
   "cell_type": "markdown",
   "metadata": {},
   "source": [
    "## <span style=\"color:brown\">Comparaison de documents<span>\n",
    "Pour comparer deux livres **A** et **B**, on définit leur <span style=\"color:green;font-weight: bold;\">indice de similarité</span> comme le rapport entre le nombre des mots distincts qui sont communs aux deux et le nombre de mots distincts qui sont dans leur union :\n",
    "$$sim(A,B) =\\frac{|A \\cap B|}{|A \\cup B|}$$\n",
    "On observe que le nombre des mots distincts communs à **A** et __B__ s'exprime comme le nombre des mots distincts de **A** plus le nombre des mots distincts de __B__ moins le nombre de mots distincts de leur union : **$|A \\cap B| = |A| + |B| - |A \\cup B|$**.\n",
    "\n"
   ]
  },
  {
   "cell_type": "markdown",
   "metadata": {},
   "source": [
    "---\n",
    "_Question 10_. Écrire une fonction **similarite** qui prend en entrée les flux associés à deux livres  et  __m__ une puissance de **2**, et qui calcule l'indice de similarité des deux livres.<br>\n",
    "La difficulté est de faire en sorte de n'effectuer qu'une seule passe sur chaque livre."
   ]
  },
  {
   "cell_type": "code",
   "execution_count": 21,
   "metadata": {},
   "outputs": [],
   "source": []
  },
  {
   "cell_type": "code",
   "execution_count": null,
   "metadata": {},
   "outputs": [],
   "source": [
    "print(similarite(\"Data/Au_bonheur_des_dames_zola.utf8.txt\",\"Data/laDameAuxCamelias_utf8.txt\"))"
   ]
  },
  {
   "cell_type": "markdown",
   "metadata": {},
   "source": [
    "---\n",
    "_Question 11_. _Au bonheur des dames_ est-il plus proche de _La Dame aux Camélias_ ou de _La bête humaine_ ?<br>\n",
    "_NB_. Supprimer les paragraphes en anglais qui se trouvent en tête et la fin des fichiers et qui peuvent biaiser les résultats."
   ]
  },
  {
   "cell_type": "code",
   "execution_count": null,
   "metadata": {},
   "outputs": [],
   "source": []
  }
 ],
 "metadata": {
  "kernelspec": {
   "display_name": "Python 3",
   "language": "python",
   "name": "python3"
  },
  "language_info": {
   "codemirror_mode": {
    "name": "ipython",
    "version": 3
   },
   "file_extension": ".py",
   "mimetype": "text/x-python",
   "name": "python",
   "nbconvert_exporter": "python",
   "pygments_lexer": "ipython3",
   "version": "3.7.4"
  }
 },
 "nbformat": 4,
 "nbformat_minor": 4
}
